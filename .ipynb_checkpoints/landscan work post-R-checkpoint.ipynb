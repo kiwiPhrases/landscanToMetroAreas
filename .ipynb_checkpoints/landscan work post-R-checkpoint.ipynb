{
 "cells": [
  {
   "cell_type": "code",
   "execution_count": 2,
   "metadata": {},
   "outputs": [],
   "source": [
    "import re, os\n",
    "import pandas as pd\n",
    "import numpy as np\n",
    "import time\n",
    "\n",
    "import geopandas as gpd\n",
    "from geopandas.tools import sjoin\n",
    "from shapely.geometry import Point\n",
    "\n",
    "import matplotlib.pyplot as plt\n",
    "%matplotlib inline\n",
    "\n",
    "subfolder = 'fringe250smth7' ## areas to load\n",
    "data_path = 'C:/Users/SpiffyApple/Documents/USC/Courses/Fall2018/JorgeWinterWork/LandScan Global 2015/LandScan Global 2015/lspop2015'"
   ]
  },
  {
   "cell_type": "markdown",
   "metadata": {},
   "source": [
    "# Introduction\n",
    "\n",
    "In this notebook, I do two things: \n",
    "\n",
    "    a. I geocode Jorge's set of households to the metro areas that I found using LandScan data. \n",
    "    \n",
    "    b. I compute the exposure rate for each metropolitan area. \n",
    "    \n",
    "All data used in here come from Landscan work_ver4.R including:\n",
    "\n",
    "    - peruAreas is a point-level data of population and size of each found metro area\n",
    "    \n",
    "    - Polygon for each metro area\n",
    "    \n",
    "    - LandScan data as polygons "
   ]
  },
  {
   "cell_type": "markdown",
   "metadata": {},
   "source": [
    "## Geocode survey of households\n",
    "\n",
    "I first load the peruAreas dataset that contains the population, size, and identity for each found metropolitan area so I can do a spatial join on the landscan-found metropolitan area polygons. To geocode Jorge's surveys, I do a spatial join between the metro area polygons and the survey data."
   ]
  },
  {
   "cell_type": "code",
   "execution_count": 3,
   "metadata": {},
   "outputs": [],
   "source": [
    "## load Peru Areas in their full so I can identify polygons\n",
    "df = pd.read_csv(\"/\".join([data_path, subfolder,'peruAreas_.csv']))\n",
    "df.drop(\"Unnamed: 0\",inplace=True,axis=1)\n",
    "peruAreas = gpd.GeoDataFrame(\n",
    "    df.drop(['x', 'y'], axis=1),\n",
    "    crs={'init': 'epsg:4326'},\n",
    "    geometry=[Point(xy) for xy in zip(df.x, df.y)])"
   ]
  },
  {
   "cell_type": "code",
   "execution_count": 4,
   "metadata": {},
   "outputs": [],
   "source": [
    "## load Peruvian geography\n",
    "peru = gpd.GeoDataFrame.from_file(\"/\".join([data_path, 'gadm36_per_3.shp']))"
   ]
  },
  {
   "cell_type": "code",
   "execution_count": 5,
   "metadata": {},
   "outputs": [],
   "source": [
    "# label peru areas with adminstrative names\n",
    "peruAreas = sjoin(peruAreas, peru)\n",
    "peruAreas.drop(['GID_3','geometry'],axis=1).to_csv(\"/\".join([data_path, 'peruAreas'+subfolder+\"ID.csv\"]))"
   ]
  },
  {
   "cell_type": "code",
   "execution_count": 6,
   "metadata": {},
   "outputs": [],
   "source": [
    "## Load households\n",
    "#point = gpd.GeoDataFrame.from_file(\"/\".join([data_path,'households','households.shp'])) # or geojson etc\n",
    "\n",
    "## I load the STATA data directly instead of putting it through GIS software\n",
    "tmpPath = 'C:/Users/SpiffyApple/Documents/USC/Courses/Fall2018/JorgeWinterWork'\n",
    "#hhs= pd.read_stata(\"/\".join([tmpPath, 'unique_ids.dta']))\n",
    "hhs = pd.read_csv(\"/\".join([data_path, 'poolenaho_gis.csv']))\n",
    "\n",
    "point = gpd.GeoDataFrame(\n",
    "    hhs.drop(['longitude', 'latitude'], axis=1),\n",
    "    crs={'init': 'epsg:4326'},\n",
    "    geometry=[Point(xy) for xy in zip(hhs.longitude, hhs.latitude)])"
   ]
  },
  {
   "cell_type": "code",
   "execution_count": 7,
   "metadata": {},
   "outputs": [
    {
     "data": {
      "text/plain": [
       "array([2007, 2008, 2009, 2010, 2011, 2012, 2013, 2014, 2015, 2016, 2017,\n",
       "       2018], dtype=int64)"
      ]
     },
     "execution_count": 7,
     "metadata": {},
     "output_type": "execute_result"
    }
   ],
   "source": [
    "hhs.year.unique()"
   ]
  },
  {
   "cell_type": "code",
   "execution_count": 8,
   "metadata": {},
   "outputs": [
    {
     "name": "stdout",
     "output_type": "stream",
     "text": [
      "Loading: core\n",
      "Shapefiles loaded\n",
      "Loading: coreFringe\n",
      "Shapefiles loaded\n",
      "Loading: settlements\n",
      "Shapefiles loaded\n"
     ]
    }
   ],
   "source": [
    "## load identified metro areas\n",
    "polyDict = {}\n",
    "for areaType in ['core','coreFringe','settlements']:\n",
    "    print(\"Loading: %s\" %areaType)\n",
    "    polyDict[areaType] = gpd.GeoDataFrame.from_file(\"/\".join([data_path,subfolder,areaType,areaType+'.shp']))\n",
    "    print(\"Shapefiles loaded\")"
   ]
  },
  {
   "cell_type": "code",
   "execution_count": 9,
   "metadata": {},
   "outputs": [
    {
     "data": {
      "text/plain": [
       "array(['core', 'fringe', 'core&fringe', 'settlement'], dtype=object)"
      ]
     },
     "execution_count": 9,
     "metadata": {},
     "output_type": "execute_result"
    }
   ],
   "source": [
    "peruAreas.areaType.unique()"
   ]
  },
  {
   "cell_type": "code",
   "execution_count": 10,
   "metadata": {},
   "outputs": [],
   "source": [
    "peruAreas.drop(['index_right'],axis=1,inplace=True)"
   ]
  },
  {
   "cell_type": "code",
   "execution_count": 11,
   "metadata": {},
   "outputs": [],
   "source": [
    "# identify metro polygons\n",
    "polyDict['core'] = sjoin(polyDict['core'], peruAreas[peruAreas.areaType=='core'],how='left').drop('index_right',axis=1)\n",
    "polyDict['coreFringe'] = sjoin(polyDict['coreFringe'], peruAreas[peruAreas.areaType=='core&fringe'],how='left').drop('index_right',axis=1)\n",
    "polyDict['settlements'] = sjoin(polyDict['settlements'], peruAreas[peruAreas.areaType=='settlement'],how='left').drop('index_right',axis=1)"
   ]
  },
  {
   "cell_type": "code",
   "execution_count": 12,
   "metadata": {},
   "outputs": [
    {
     "name": "stdout",
     "output_type": "stream",
     "text": [
      "Performing spatial join with core\n",
      "\tSpatial join done. It took: 82.28seconds\n",
      "Performing spatial join with coreFringe\n",
      "\tSpatial join done. It took: 75.53seconds\n",
      "Performing spatial join with settlements\n",
      "\tSpatial join done. It took: 85.19seconds\n"
     ]
    }
   ],
   "source": [
    "# merge metro polygons with households\n",
    "pointDict = {}\n",
    "\n",
    "for areaType in ['core','coreFringe','settlements']:\n",
    "    print(\"Performing spatial join with %s\" %areaType)\n",
    "    start_time = time.time()\n",
    "    pointDict[areaType] = sjoin(point, polyDict[areaType], how='inner')\n",
    "    pointDict[areaType].dropna(subset=['areaType'],inplace=True) ## drop unmatched households\n",
    "    \n",
    "    print(\"\\tSpatial join done. It took: %.2fseconds\" %(time.time()-start_time))"
   ]
  },
  {
   "cell_type": "code",
   "execution_count": 13,
   "metadata": {},
   "outputs": [
    {
     "data": {
      "text/plain": [
       "(1135255, 17)"
      ]
     },
     "execution_count": 13,
     "metadata": {},
     "output_type": "execute_result"
    }
   ],
   "source": [
    "households = pd.concat(pointDict, keys=None, sort=True)#.drop_duplicates(subset=['field_1'])\n",
    "households.shape"
   ]
  },
  {
   "cell_type": "code",
   "execution_count": 15,
   "metadata": {},
   "outputs": [
    {
     "name": "stdout",
     "output_type": "stream",
     "text": [
      "Number of observations in each area:\n"
     ]
    },
    {
     "data": {
      "text/plain": [
       "areaType\n",
       "core           461885\n",
       "core&fringe    521236\n",
       "settlement     152134\n",
       "Name: codperso, dtype: int64"
      ]
     },
     "execution_count": 15,
     "metadata": {},
     "output_type": "execute_result"
    }
   ],
   "source": [
    "print(\"Number of observations in each area:\")\n",
    "households.groupby('areaType').codperso.count()"
   ]
  },
  {
   "cell_type": "code",
   "execution_count": 16,
   "metadata": {},
   "outputs": [],
   "source": [
    "## clean up\n",
    "superfluousCols = ['index_right','geometry','layer']\n",
    "households.drop(superfluousCols, axis=1, inplace=True)\n",
    "households.reset_index(drop=True,inplace=True)"
   ]
  },
  {
   "cell_type": "code",
   "execution_count": 17,
   "metadata": {},
   "outputs": [
    {
     "data": {
      "text/plain": [
       "array([2007, 2008, 2009, 2010, 2011, 2012, 2013, 2014, 2015, 2016, 2017,\n",
       "       2018], dtype=int64)"
      ]
     },
     "execution_count": 17,
     "metadata": {},
     "output_type": "execute_result"
    }
   ],
   "source": [
    "## check present years\n",
    "households.year.unique()"
   ]
  },
  {
   "cell_type": "code",
   "execution_count": 19,
   "metadata": {},
   "outputs": [],
   "source": [
    "# save households to a csv\n",
    "households.to_csv(\"/\".join([data_path, 'fringe250smth7','geoCodedhouseholds.csv']))"
   ]
  },
  {
   "cell_type": "markdown",
   "metadata": {},
   "source": [
    "## Compute Exposure Rate\n",
    "\n",
    "For each square, I find its share of the population within its metro area. I then create half-mile buffers around each square, load the smoothed landscan data of Peru, and find all of the landscan squares that lie within each buffer. To conclude, I sum the population within the landscan squares for each buffer, multiply the total by the square's share, and then sum the products over each metropolitan area. "
   ]
  },
  {
   "cell_type": "code",
   "execution_count": 92,
   "metadata": {},
   "outputs": [
    {
     "name": "stdout",
     "output_type": "stream",
     "text": [
      "Working on: coreFringes\n",
      "Working on: settlements\n"
     ]
    }
   ],
   "source": [
    "## load shapefiles:\n",
    "squareDict = {}\n",
    "for areaType in ['coreFringesLandScan','settlementsLandScan']:\n",
    "    s = re.sub(\"LandScan\",'',areaType)\n",
    "    print(\"Working on: %s\" %s)\n",
    "    squareDict[s] = gpd.GeoDataFrame.from_file(\"/\".join([data_path,subfolder,areaType, s+'.shp']))   "
   ]
  },
  {
   "cell_type": "code",
   "execution_count": 93,
   "metadata": {},
   "outputs": [],
   "source": [
    "## geocode the squares\n",
    "areaType = 'coreFringes'\n",
    "squareDict[areaType] = sjoin(squareDict[areaType],polyDict['coreFringe'],  how='left')\n",
    "squareDict[areaType].drop(['index_right','sqrkm', 'layer_right'],axis=1,inplace=True)\n",
    "squareDict[areaType].rename(columns = {'layer_left':'sqrPop'},inplace=True)\n",
    "squareDict[areaType]['share'] = squareDict[areaType].sqrPop/squareDict[areaType]['pop']\n",
    "\n",
    "areaType = 'settlements'\n",
    "squareDict[areaType] =sjoin(squareDict[areaType],polyDict[areaType])\n",
    "squareDict[areaType].drop(['index_right','sqrkm','layer_right'],axis=1,inplace=True)\n",
    "squareDict[areaType].rename(columns = {'layer_left':'sqrPop'},inplace=True)\n",
    "squareDict[areaType]['share'] = squareDict[areaType].sqrPop/squareDict[areaType]['pop']"
   ]
  },
  {
   "cell_type": "code",
   "execution_count": 94,
   "metadata": {},
   "outputs": [],
   "source": [
    "## load peru landscan\n",
    "landscan = gpd.GeoDataFrame.from_file(\"/\".join([data_path,'perulandscan','peru.shp']))"
   ]
  },
  {
   "cell_type": "markdown",
   "metadata": {},
   "source": [
    "For buffer, using degree to km [approximations](https://www.usna.edu/Users/oceano/pguth/md_help/html/approx_equivalents.htm)"
   ]
  },
  {
   "cell_type": "code",
   "execution_count": 95,
   "metadata": {},
   "outputs": [
    {
     "name": "stdout",
     "output_type": "stream",
     "text": [
      "Working on: coreFringes\n",
      "Working on: settlements\n"
     ]
    }
   ],
   "source": [
    "## create buffers and intersect with Peru\n",
    "bufferDict = {}\n",
    "inDict = {}\n",
    "\n",
    "for areaType in ['coreFringes','settlements']:\n",
    "    print(\"Working on: %s\" %areaType)\n",
    "    bufferDict[areaType] = squareDict[areaType].copy()\n",
    "    bufferDict[areaType]['geometry'] = squareDict[areaType].geometry.buffer(.091)\n",
    "    inDict[areaType] = sjoin(bufferDict[areaType],landscan, how='left') # spatial join buffers and landscan"
   ]
  },
  {
   "cell_type": "code",
   "execution_count": 96,
   "metadata": {},
   "outputs": [
    {
     "data": {
      "text/plain": [
       "<matplotlib.axes._subplots.AxesSubplot at 0x2823c649a58>"
      ]
     },
     "execution_count": 96,
     "metadata": {},
     "output_type": "execute_result"
    },
    {
     "data": {
      "image/png": "[encoded data removed]",
      "text/plain": [
       "<Figure size 432x288 with 1 Axes>"
      ]
     },
     "metadata": {
      "needs_background": "light"
     },
     "output_type": "display_data"
    }
   ],
   "source": [
    "squareDict['coreFringes'].iloc[[0,4]].plot()"
   ]
  },
  {
   "cell_type": "code",
   "execution_count": 97,
   "metadata": {},
   "outputs": [
    {
     "data": {
      "text/plain": [
       "<matplotlib.axes._subplots.AxesSubplot at 0x2823c7940b8>"
      ]
     },
     "execution_count": 97,
     "metadata": {},
     "output_type": "execute_result"
    },
    {
     "data": {
      "image/png": "[encoded data removed]",
      "text/plain": [
       "<Figure size 432x288 with 1 Axes>"
      ]
     },
     "metadata": {
      "needs_background": "light"
     },
     "output_type": "display_data"
    }
   ],
   "source": [
    "bufferDict['coreFringes'].iloc[[0,4]].plot()"
   ]
  },
  {
   "cell_type": "code",
   "execution_count": 99,
   "metadata": {},
   "outputs": [],
   "source": [
    "## compute total Landscan population in the buffer\n",
    "sumDict = {}\n",
    "for areaType in ['coreFringes','settlements']:\n",
    "    sumDict[areaType] = pd.concat([squareDict[areaType], inDict[areaType].groupby(axis=0, level=0).layer.agg(['sum'])],axis=1)"
   ]
  },
  {
   "cell_type": "code",
   "execution_count": 100,
   "metadata": {},
   "outputs": [],
   "source": [
    "## rename sum column to something more understandable\n",
    "sumDict['coreFringes'].rename(columns = {'sum':'totalExposure'},inplace=True)\n",
    "sumDict['settlements'].rename(columns = {'sum':'totalExposure'},inplace=True)"
   ]
  },
  {
   "cell_type": "code",
   "execution_count": 101,
   "metadata": {},
   "outputs": [
    {
     "name": "stdout",
     "output_type": "stream",
     "text": [
      "working on coreFringes\n",
      "working on settlements\n"
     ]
    }
   ],
   "source": [
    "## multiply shares by total population in circle\n",
    "for areaType in ['coreFringes','settlements']:\n",
    "    print(\"working on %s\" %areaType)\n",
    "    sumDict[areaType].loc[:,'exposure'] = sumDict[areaType].share*sumDict[areaType].loc[:,'totalExposure']"
   ]
  },
  {
   "cell_type": "code",
   "execution_count": 103,
   "metadata": {},
   "outputs": [],
   "source": [
    "## sum over squares in circles to compute exposure \n",
    "exposureDict = {}\n",
    "for areaType in ['coreFringes','settlements']:\n",
    "    exposureDict[areaType] = sumDict[areaType].groupby('zone')[['exposure','share']].sum()\n",
    "    \n",
    "## process output and save to a csv    \n",
    "exposureDF = pd.concat(exposureDict).reset_index(level=0)\n",
    "subset = (peruAreas.areaType=='core&fringe') | (peruAreas.areaType=='settlement')\n",
    "exposureDF =exposureDF.merge(peruAreas.loc[subset].drop('geometry',axis=1),left_index=True, right_on='zone')\n",
    "exposureDF.to_csv(\"/\".join([data_path, subfolder, 'exposures.csv']))"
   ]
  },
  {
   "cell_type": "code",
   "execution_count": 104,
   "metadata": {},
   "outputs": [
    {
     "data": {
      "text/html": [
       "<div>\n",
       "<style scoped>\n",
       "    .dataframe tbody tr th:only-of-type {\n",
       "        vertical-align: middle;\n",
       "    }\n",
       "\n",
       "    .dataframe tbody tr th {\n",
       "        vertical-align: top;\n",
       "    }\n",
       "\n",
       "    .dataframe thead th {\n",
       "        text-align: right;\n",
       "    }\n",
       "</style>\n",
       "<table border=\"1\" class=\"dataframe\">\n",
       "  <thead>\n",
       "    <tr style=\"text-align: right;\">\n",
       "      <th></th>\n",
       "      <th>exposure</th>\n",
       "      <th>share</th>\n",
       "    </tr>\n",
       "    <tr>\n",
       "      <th>zone</th>\n",
       "      <th></th>\n",
       "      <th></th>\n",
       "    </tr>\n",
       "  </thead>\n",
       "  <tbody>\n",
       "    <tr>\n",
       "      <th>23</th>\n",
       "      <td>1.072830e+05</td>\n",
       "      <td>1.0</td>\n",
       "    </tr>\n",
       "    <tr>\n",
       "      <th>26</th>\n",
       "      <td>1.260440e+05</td>\n",
       "      <td>1.0</td>\n",
       "    </tr>\n",
       "    <tr>\n",
       "      <th>1</th>\n",
       "      <td>1.273801e+05</td>\n",
       "      <td>1.0</td>\n",
       "    </tr>\n",
       "    <tr>\n",
       "      <th>14</th>\n",
       "      <td>1.347076e+05</td>\n",
       "      <td>1.0</td>\n",
       "    </tr>\n",
       "    <tr>\n",
       "      <th>6</th>\n",
       "      <td>1.569557e+05</td>\n",
       "      <td>1.0</td>\n",
       "    </tr>\n",
       "    <tr>\n",
       "      <th>3</th>\n",
       "      <td>1.594606e+05</td>\n",
       "      <td>1.0</td>\n",
       "    </tr>\n",
       "    <tr>\n",
       "      <th>16</th>\n",
       "      <td>1.726024e+05</td>\n",
       "      <td>1.0</td>\n",
       "    </tr>\n",
       "    <tr>\n",
       "      <th>21</th>\n",
       "      <td>1.816682e+05</td>\n",
       "      <td>1.0</td>\n",
       "    </tr>\n",
       "    <tr>\n",
       "      <th>13</th>\n",
       "      <td>1.904121e+05</td>\n",
       "      <td>1.0</td>\n",
       "    </tr>\n",
       "    <tr>\n",
       "      <th>20</th>\n",
       "      <td>2.039371e+05</td>\n",
       "      <td>1.0</td>\n",
       "    </tr>\n",
       "    <tr>\n",
       "      <th>9</th>\n",
       "      <td>2.156160e+05</td>\n",
       "      <td>1.0</td>\n",
       "    </tr>\n",
       "    <tr>\n",
       "      <th>25</th>\n",
       "      <td>2.398303e+05</td>\n",
       "      <td>1.0</td>\n",
       "    </tr>\n",
       "    <tr>\n",
       "      <th>28</th>\n",
       "      <td>2.579617e+05</td>\n",
       "      <td>1.0</td>\n",
       "    </tr>\n",
       "    <tr>\n",
       "      <th>11</th>\n",
       "      <td>3.339163e+05</td>\n",
       "      <td>1.0</td>\n",
       "    </tr>\n",
       "    <tr>\n",
       "      <th>24</th>\n",
       "      <td>3.425114e+05</td>\n",
       "      <td>1.0</td>\n",
       "    </tr>\n",
       "    <tr>\n",
       "      <th>12</th>\n",
       "      <td>3.532897e+05</td>\n",
       "      <td>1.0</td>\n",
       "    </tr>\n",
       "    <tr>\n",
       "      <th>22</th>\n",
       "      <td>3.970475e+05</td>\n",
       "      <td>1.0</td>\n",
       "    </tr>\n",
       "    <tr>\n",
       "      <th>18</th>\n",
       "      <td>4.604655e+05</td>\n",
       "      <td>1.0</td>\n",
       "    </tr>\n",
       "    <tr>\n",
       "      <th>2</th>\n",
       "      <td>4.606882e+05</td>\n",
       "      <td>1.0</td>\n",
       "    </tr>\n",
       "    <tr>\n",
       "      <th>4</th>\n",
       "      <td>4.663096e+05</td>\n",
       "      <td>1.0</td>\n",
       "    </tr>\n",
       "    <tr>\n",
       "      <th>8</th>\n",
       "      <td>6.947785e+05</td>\n",
       "      <td>1.0</td>\n",
       "    </tr>\n",
       "    <tr>\n",
       "      <th>10</th>\n",
       "      <td>8.183569e+05</td>\n",
       "      <td>1.0</td>\n",
       "    </tr>\n",
       "    <tr>\n",
       "      <th>27</th>\n",
       "      <td>8.549658e+05</td>\n",
       "      <td>1.0</td>\n",
       "    </tr>\n",
       "    <tr>\n",
       "      <th>17</th>\n",
       "      <td>3.370262e+06</td>\n",
       "      <td>1.0</td>\n",
       "    </tr>\n",
       "  </tbody>\n",
       "</table>\n",
       "</div>"
      ],
      "text/plain": [
       "          exposure  share\n",
       "zone                     \n",
       "23    1.072830e+05    1.0\n",
       "26    1.260440e+05    1.0\n",
       "1     1.273801e+05    1.0\n",
       "14    1.347076e+05    1.0\n",
       "6     1.569557e+05    1.0\n",
       "3     1.594606e+05    1.0\n",
       "16    1.726024e+05    1.0\n",
       "21    1.816682e+05    1.0\n",
       "13    1.904121e+05    1.0\n",
       "20    2.039371e+05    1.0\n",
       "9     2.156160e+05    1.0\n",
       "25    2.398303e+05    1.0\n",
       "28    2.579617e+05    1.0\n",
       "11    3.339163e+05    1.0\n",
       "24    3.425114e+05    1.0\n",
       "12    3.532897e+05    1.0\n",
       "22    3.970475e+05    1.0\n",
       "18    4.604655e+05    1.0\n",
       "2     4.606882e+05    1.0\n",
       "4     4.663096e+05    1.0\n",
       "8     6.947785e+05    1.0\n",
       "10    8.183569e+05    1.0\n",
       "27    8.549658e+05    1.0\n",
       "17    3.370262e+06    1.0"
      ]
     },
     "execution_count": 104,
     "metadata": {},
     "output_type": "execute_result"
    }
   ],
   "source": [
    "exposureDict['coreFringes'].sort_values('exposure')"
   ]
  },
  {
   "cell_type": "code",
   "execution_count": 111,
   "metadata": {},
   "outputs": [
    {
     "name": "stdout",
     "output_type": "stream",
     "text": [
      "Number of settlemnet areas 67\n",
      "Number of settlement exposures: 65\n"
     ]
    }
   ],
   "source": [
    "print(\"Number of settlemnet areas\",peruAreas.loc[peruAreas.areaType=='settlement','zone'].shape[0])\n",
    "print(\"Number of settlement exposures:\",(exposureDF.areaType=='settlement').sum())"
   ]
  },
  {
   "cell_type": "code",
   "execution_count": 113,
   "metadata": {},
   "outputs": [
    {
     "name": "stdout",
     "output_type": "stream",
     "text": [
      "Number of core areas 24\n",
      "Number of core exposures 24\n"
     ]
    }
   ],
   "source": [
    "print(\"Number of core areas\",peruAreas.loc[peruAreas.areaType=='core&fringe','zone'].shape[0])\n",
    "print(\"Number of core exposures\",(exposureDF.areaType=='core&fringe').sum())"
   ]
  },
  {
   "cell_type": "code",
   "execution_count": null,
   "metadata": {},
   "outputs": [],
   "source": []
  }
 ],
 "metadata": {
  "kernelspec": {
   "display_name": "Python 3",
   "language": "python",
   "name": "python3"
  },
  "language_info": {
   "codemirror_mode": {
    "name": "ipython",
    "version": 3
   },
   "file_extension": ".py",
   "mimetype": "text/x-python",
   "name": "python",
   "nbconvert_exporter": "python",
   "pygments_lexer": "ipython3",
   "version": "3.7.3"
  }
 },
 "nbformat": 4,
 "nbformat_minor": 2
}
